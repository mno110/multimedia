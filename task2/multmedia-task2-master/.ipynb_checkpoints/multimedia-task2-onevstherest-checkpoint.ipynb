{
 "cells": [
  {
   "cell_type": "markdown",
   "metadata": {},
   "source": [
    "# multimedia 課題2\n",
    "\n",
    "多クラス（2クラス以上）のサンプル（2次元以上とする）を，各クラスに対して設定した正規分布などに基づく乱数の発生により生成した後，一部を学習サンプル，残りをテストサンプルとし，学習サンプルを用いて学習した識別器を用いてテストサンプルを分類するプログラムを作成して下さい．\n",
    "\n",
    "## 作成するプログラム\n",
    "各クラスのサンプルを生成した後，識別器を学習する学習部と，学習した識別器を用いてテストサンプルを分類する分類部の 2つの処理部から構成されるプログラムを作成して下さい．\n",
    "ただし，学習部は最低3種類の異なる方法で識別器を学習すること．\n",
    "\n",
    "## 注意事項\n",
    "\n",
    "* 各クラスに対し，分布のパラメータ，サンプル数及び，学習サンプルとテストサンプルの割合などを変更し， 作成したプログラムの動作を検証して下さい．\n",
    "* 処理時間についても評価すること "
   ]
  },
  {
   "cell_type": "markdown",
   "metadata": {},
   "source": [
    "# プログラム欠点\n",
    "\n",
    "重複したものおよびどれにも選ばれなかったデータガン無視"
   ]
  },
  {
   "cell_type": "markdown",
   "metadata": {},
   "source": [
    "# numpyの乱数について\n",
    "\n",
    "[Numpyによる乱数生成まとめ](https://qiita.com/yubais/items/bf9ce0a8fefdcc0b0c97)"
   ]
  },
  {
   "cell_type": "markdown",
   "metadata": {},
   "source": [
    "```\n",
    "from numpy.random import *\n",
    "\n",
    "\"\"\" 標準正規分布。いわゆるガウシアン。標準正規分布ならば randn() で、平均・分散を指定したい場合は normal() を用いる。\"\"\"\n",
    "randn()         # 標準正規分布 (平均0, 標準偏差1)\n",
    "randn(10)       # 標準正規分布を10個生成\n",
    "randn(10,10)    # 標準正規分布による 10x10 の行列\n",
    "\n",
    "normal(50,10)   # 平均50、標準偏差10の正規分布\n",
    "\n",
    "\"\"\" 二項分布。確率pでオモテが出るコインをn回投げて、オモテが出る個数。 \"\"\"\n",
    "binomial(n=100, p=0.5)\n",
    "\n",
    "\"\"\" ポアソン分布。稀にしか起きない現象を長時間観測したときに起きる回数の分布。λはその平均。 \"\"\"\n",
    "poisson(lam=10)     # λ=10 のポアソン分布\n",
    "\n",
    "\"\"\" ベータ分布。二項分布の共役事前分布などに用いる。\"\"\"\n",
    "beta(a=3, b=5)      # a=3, b=5 のベータ分布\n",
    "```"
   ]
  },
  {
   "cell_type": "code",
   "execution_count": 2,
   "metadata": {},
   "outputs": [],
   "source": [
    "import matplotlib.pyplot as plt\n",
    "import pandas as pd\n",
    "import numpy as np\n",
    "from sklearn.model_selection import train_test_split\n",
    "import time"
   ]
  },
  {
   "cell_type": "markdown",
   "metadata": {},
   "source": [
    "# サンプル生成クラス"
   ]
  },
  {
   "cell_type": "code",
   "execution_count": 3,
   "metadata": {},
   "outputs": [],
   "source": [
    "class Sample:\n",
    "    \n",
    "    def __init__(self, seed = 1): \n",
    "        self.seed = seed\n",
    "        self.np = np\n",
    "        self.np.random.seed(seed)\n",
    "        return \n",
    "    \n",
    "    def generate2d(self, n, ave, sig, x1_shift = 0, x2_shift = 0):\n",
    "        _a = self.np.random.normal(ave, sig, 2*n)\n",
    "        return _a[:n]+x1_shift, _a[n:]+x2_shift\n",
    "        \n"
   ]
  },
  {
   "cell_type": "markdown",
   "metadata": {},
   "source": [
    "# 識別器について\n",
    "\n",
    "y = w0 + w1*x1 * w2*x2 + ...\n",
    "\n",
    "xi: data\n",
    "y: class_name\n",
    "w: weight\n",
    "\n",
    "w0 := intercept_\n",
    "\n",
    "w1, w2, *_ = coef_\n"
   ]
  },
  {
   "cell_type": "markdown",
   "metadata": {},
   "source": [
    "# ２クラス識別器\n"
   ]
  },
  {
   "cell_type": "code",
   "execution_count": 125,
   "metadata": {},
   "outputs": [],
   "source": [
    "class Classifier:\n",
    "    \n",
    "    def __init__(self, low = 0.5, loop = 1000):\n",
    "        \n",
    "        # データセットを何周するか\n",
    "        self.loop = loop\n",
    "        # 学習係数\n",
    "        self.low = low\n",
    "        \n",
    "        return \n",
    "    \n",
    "    def fit(self, features, labels, clsnum):\n",
    "        \n",
    "        # 特徴量の列数\n",
    "        n_rows, n_cols, *_ = features.shape# 最後の何や\n",
    "        # classが何か bool配列\n",
    "        labels = labels.values.reshape(-1,)\n",
    "        self.intercept_ = np.zeros((clsnum))\n",
    "        self.coef_      = np.zeros((clsnum, n_cols))\n",
    "        \n",
    "        for i in range(clsnum):\n",
    "            \n",
    "            is_cls_list = (labels == i+1)\n",
    "            \n",
    "            # w0を含めて重み係数を初期化\n",
    "            wvec = self.__init_weights(n_cols + 1)\n",
    "            # x0 = 1を追加\n",
    "            xvecs = np.c_[np.ones(n_rows), features]\n",
    "            \n",
    "            # TODO: 収束させる条件とか考える\n",
    "            for j in range(self.loop):\n",
    "                for xvec, is_cls in zip(xvecs, is_cls_list):\n",
    "                    \n",
    "                    wvec = self.__train(wvec, xvec, is_cls)\n",
    "            \n",
    "            self.intercept_[i] = wvec[0]\n",
    "            self.coef_[i,:]      = wvec[1:]\n",
    "            \n",
    "            print(\"finished fitting class{}. w0:{}, w1:{}, w2:{}\".format(i+1, *wvec))\n",
    "        \n",
    "        return\n",
    "    \n",
    "    def predict(self, x_test, y_test, clsnum):\n",
    "        \n",
    "        if(self.coef_ is None or self.intercept_ is None):\n",
    "            raise Exception(\"First of all, please call fit function.\")\n",
    "        \n",
    "        x = np.array(x_test)\n",
    "        y = np.array(y_test)\n",
    "        xvecs = np.c_[np.ones(x.shape[0]), x_test]\n",
    "        ypre = np.ones((y.shape[0], clsnum))\n",
    "        \n",
    "        for f in range(clsnum):\n",
    "            wvec = np.r_[self.intercept_[f], self.coef_[f,:]]\n",
    "            \n",
    "            for row in range(xvecs.shape[0]):\n",
    "                if (np.dot(wvec, xvecs[row,:]) <= 0):\n",
    "                    ypre[row, f] = 0\n",
    "        yprenum = np.sum(ypre, axis = 1)\n",
    "        ypreind = np.where(yprenum==1, 0, 1)\n",
    "        clsave  = np.zeros((clsnum, x.shape[1]))\n",
    "        for f in range(clsnum):\n",
    "            yprecls = np.sum(np.where(ypre == f+1, 0, 1), axis = 1)\n",
    "            clsind = np.where(np.dot(ypreind, yprecls)==1)\n",
    "            clsave[f,:] = np.mean(x[clsind[0],:], axis = 0)\n",
    "        \n",
    "        ystlind = np.where(yprenum!=1)\n",
    "        for ind in ystlind[0]:\n",
    "            judge = np.argmax(np.sum(np.square(clsave - x[ind,:]),axis = 1))\n",
    "            ypre[ind,:]=0\n",
    "            ypre[ind,judge] = 1\n",
    "        for f in range(clsnum):\n",
    "            cls = f+1\n",
    "            ypreprbind = np.where(ypre[:,f]==1)\n",
    "            print(\"class{}:{}/{}({}%)\".format(cls, np.count_nonzero(y[ypreprbind[0]]==cls), \\\n",
    "                                              np.count_nonzero(y==cls), \\\n",
    "                                              100 * np.count_nonzero(y[ypreprbind[0]]==cls)/np.count_nonzero(y==cls)))\n",
    "        \n",
    "        return \n",
    "    \n",
    "    def score(self):\n",
    "        return \n",
    "    \n",
    "    ###################\n",
    "    # private methods #\n",
    "    ###################\n",
    "    \n",
    "    def __init_weights(self, num_x):\n",
    "        \n",
    "        return [0.5] * num_x\n",
    "    \n",
    "    def __train(self, wvec, xvec, is_cls1):\n",
    "\n",
    "        if (np.dot(wvec, xvec) > 0):\n",
    "            \n",
    "            # cls1と予測したけどcls2だった場合\n",
    "            if(not is_cls1):\n",
    "                wvec -= self.low*xvec\n",
    "            \n",
    "        # class1だった場合何もしない\n",
    "        else:\n",
    "            \n",
    "            # cls2と予測したけどcls1だった場合\n",
    "            if(is_cls1):\n",
    "                wvec += self.low*xvec\n",
    "                \n",
    "        return wvec\n"
   ]
  },
  {
   "cell_type": "markdown",
   "metadata": {},
   "source": [
    "# 学習"
   ]
  },
  {
   "cell_type": "code",
   "execution_count": 128,
   "metadata": {},
   "outputs": [
    {
     "data": {
      "image/png": "[encoded data removed]",
      "text/plain": [
       "<Figure size 432x288 with 1 Axes>"
      ]
     },
     "metadata": {
      "needs_background": "light"
     },
     "output_type": "display_data"
    },
    {
     "data": {
      "text/html": [
       "<div>\n",
       "<style scoped>\n",
       "    .dataframe tbody tr th:only-of-type {\n",
       "        vertical-align: middle;\n",
       "    }\n",
       "\n",
       "    .dataframe tbody tr th {\n",
       "        vertical-align: top;\n",
       "    }\n",
       "\n",
       "    .dataframe thead th {\n",
       "        text-align: right;\n",
       "    }\n",
       "</style>\n",
       "<table border=\"1\" class=\"dataframe\">\n",
       "  <thead>\n",
       "    <tr style=\"text-align: right;\">\n",
       "      <th></th>\n",
       "      <th>y</th>\n",
       "      <th>x1</th>\n",
       "      <th>x2</th>\n",
       "    </tr>\n",
       "  </thead>\n",
       "  <tbody>\n",
       "    <tr>\n",
       "      <th>0</th>\n",
       "      <td>3</td>\n",
       "      <td>148.044995</td>\n",
       "      <td>101.992352</td>\n",
       "    </tr>\n",
       "    <tr>\n",
       "      <th>1</th>\n",
       "      <td>3</td>\n",
       "      <td>140.910345</td>\n",
       "      <td>102.686946</td>\n",
       "    </tr>\n",
       "    <tr>\n",
       "      <th>2</th>\n",
       "      <td>2</td>\n",
       "      <td>149.755094</td>\n",
       "      <td>149.983585</td>\n",
       "    </tr>\n",
       "    <tr>\n",
       "      <th>3</th>\n",
       "      <td>1</td>\n",
       "      <td>104.666433</td>\n",
       "      <td>84.629711</td>\n",
       "    </tr>\n",
       "    <tr>\n",
       "      <th>4</th>\n",
       "      <td>2</td>\n",
       "      <td>154.683321</td>\n",
       "      <td>143.276311</td>\n",
       "    </tr>\n",
       "  </tbody>\n",
       "</table>\n",
       "</div>"
      ],
      "text/plain": [
       "   y          x1          x2\n",
       "0  3  148.044995  101.992352\n",
       "1  3  140.910345  102.686946\n",
       "2  2  149.755094  149.983585\n",
       "3  1  104.666433   84.629711\n",
       "4  2  154.683321  143.276311"
      ]
     },
     "metadata": {},
     "output_type": "display_data"
    },
    {
     "name": "stdout",
     "output_type": "stream",
     "text": [
      "finished fitting class1. w0:32147.5, w1:-141.42080668267198, w2:-161.9932514180175\n",
      "finished fitting class2. w0:-36783.5, w1:110.38980413605253, w2:144.1887224109596\n",
      "finished fitting class3. w0:-4787.5, w1:738.5988197915759, w2:-961.8943544233282\n",
      "finished fitting class4. w0:-3494.0, w1:-1019.6037336126102, w2:738.7193990682632\n",
      "training time:22.03099298477173s\n"
     ]
    },
    {
     "data": {
      "image/png": "[encoded data removed]",
      "text/plain": [
       "<Figure size 432x288 with 1 Axes>"
      ]
     },
     "metadata": {
      "needs_background": "light"
     },
     "output_type": "display_data"
    }
   ],
   "source": [
    "# data生成\n",
    "data_num = 4 # 使うデータ数\n",
    "s_x1 = np.zeros((1000,10))\n",
    "s_x2 = np.zeros((1000,10))\n",
    "s_x1[:,0], s_x2[:,0] = Sample(1).generate2d(1000, 100, 10)\n",
    "s_x1[:,1], s_x2[:,1] = Sample(2).generate2d(1000, 140, 10)\n",
    "s_x1[:,2], s_x2[:,2] = Sample(3).generate2d(1000, 100, 10, x1_shift = 40)\n",
    "s_x1[:,3], s_x2[:,3] = Sample(4).generate2d(1000, 100, 10, x2_shift = 40)\n",
    "s_x1[:,4], s_x2[:,4] = Sample(5).generate2d(1000, 120, 10)\n",
    "s_x1[:,5], s_x2[:,5] = Sample(6).generate2d(1000, 180, 10)\n",
    "s_x1[:,6], s_x2[:,6] = Sample(7).generate2d(1000, 140, 10, x1_shift = 40)\n",
    "s_x1[:,7], s_x2[:,7] = Sample(8).generate2d(1000, 140, 10, x2_shift = 40)\n",
    "s_x1[:,8], s_x2[:,8] = Sample(9).generate2d(1000, 100, 10, x1_shift = 80)\n",
    "s_x1[:,9], s_x2[:,9] = Sample(10).generate2d(1000, 100, 10, x2_shift = 80)\n",
    "\n",
    "for i in range(data_num):\n",
    "    plt.scatter(s_x1[:,i], s_x2[:,i])\n",
    "\n",
    "plt.show()\n",
    "plt.close()\n",
    "\n",
    "for i in range(data_num):\n",
    "    exec(\"df{} = pd.DataFrame({{\\'y\\': {}, \\'x1\\': s_x1[:,i], \\'x2\\': s_x2[:,i]}})\".format(i+1, i+1))\n",
    "\n",
    "# shuffle\n",
    "df = df1\n",
    "for i in range(data_num-1):\n",
    "    exec(\"df = pd.concat([df, df{}]).sample(frac=1).reset_index(drop=True)\".format(i+2))\n",
    "display(df.head())\n",
    "\n",
    "# すでにshuffleされているためshuffleはfalse\n",
    "# これらの値はDataFrame\n",
    "x_train, x_test, y_train, y_test = train_test_split(df[['x1', 'x2']], df[['y']], test_size=0.2, shuffle = False)\n",
    "\n",
    "start = time.time()\n",
    "clsf = Classifier()\n",
    "clsf.fit(x_train, y_train, data_num)\n",
    "\n",
    "print('training time:{}s'.format(time.time()-start))\n",
    "\n",
    "for i in range(data_num):\n",
    "    plt.scatter(s_x1[:,i], s_x2[:,i], alpha=0.3)\n",
    "\n",
    "\n",
    "#分離境界線\n",
    "x_fig = np.array(range(75,205))\n",
    "for i in range(data_num):\n",
    "    y_fig = -(clsf.coef_[i, 0]/clsf.coef_[i, 1])*x_fig - (clsf.intercept_[i]/clsf.coef_[i, 1])\n",
    "    plt.plot(x_fig,y_fig)\n",
    "plt.show()"
   ]
  },
  {
   "cell_type": "markdown",
   "metadata": {},
   "source": [
    "# 分類"
   ]
  },
  {
   "cell_type": "code",
   "execution_count": 129,
   "metadata": {},
   "outputs": [
    {
     "name": "stdout",
     "output_type": "stream",
     "text": [
      "class1:199/199(100.0%)\n",
      "class2:41/195(21.025641025641026%)\n",
      "class3:121/205(59.02439024390244%)\n",
      "class4:94/201(46.766169154228855%)\n",
      "test time:0.014002799987792969s\n"
     ]
    },
    {
     "name": "stderr",
     "output_type": "stream",
     "text": [
      "C:\\Users\\koji\\Anaconda3\\lib\\site-packages\\numpy\\core\\fromnumeric.py:2920: RuntimeWarning: Mean of empty slice.\n",
      "  out=out, **kwargs)\n",
      "C:\\Users\\koji\\Anaconda3\\lib\\site-packages\\numpy\\core\\_methods.py:78: RuntimeWarning: invalid value encountered in true_divide\n",
      "  ret, rcount, out=ret, casting='unsafe', subok=False)\n"
     ]
    }
   ],
   "source": [
    "start = time.time()\n",
    "clsf.predict(x_test, y_test, data_num)\n",
    "    \n",
    "print('test time:{}s'.format(time.time()-start))\n"
   ]
  },
  {
   "cell_type": "code",
   "execution_count": 124,
   "metadata": {},
   "outputs": [
    {
     "name": "stdout",
     "output_type": "stream",
     "text": [
      "[[1. 1. 1.]\n",
      " [1. 1. 1.]\n",
      " [1. 1. 1.]\n",
      " ...\n",
      " [1. 1. 1.]\n",
      " [1. 1. 1.]\n",
      " [1. 1. 1.]]\n"
     ]
    }
   ],
   "source": []
  }
 ],
 "metadata": {
  "kernelspec": {
   "display_name": "Python 3",
   "language": "python",
   "name": "python3"
  },
  "language_info": {
   "codemirror_mode": {
    "name": "ipython",
    "version": 3
   },
   "file_extension": ".py",
   "mimetype": "text/x-python",
   "name": "python",
   "nbconvert_exporter": "python",
   "pygments_lexer": "ipython3",
   "version": "3.7.0"
  }
 },
 "nbformat": 4,
 "nbformat_minor": 2
}
