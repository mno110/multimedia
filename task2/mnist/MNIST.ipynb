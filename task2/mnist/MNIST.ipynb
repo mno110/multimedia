{
 "cells": [
  {
   "cell_type": "markdown",
   "metadata": {},
   "source": [
    "# MNIST\n",
    "\n",
    "約6000枚/数字 の画像のデータセットから学習し、識別する"
   ]
  },
  {
   "cell_type": "markdown",
   "metadata": {},
   "source": [
    "## 注\n",
    "\n",
    "loadしたmnist.pklのデータセットは'image'が(データ数,784)の行列'label'が(データ数,10)の0or1行列"
   ]
  },
  {
   "cell_type": "code",
   "execution_count": 1,
   "metadata": {},
   "outputs": [],
   "source": [
    "import numpy as np\n",
    "import os\n",
    "import cv2\n",
    "import matplotlib.pyplot as plt\n",
    "from PIL import Image\n",
    "import pickle\n",
    "import time"
   ]
  },
  {
   "cell_type": "code",
   "execution_count": 2,
   "metadata": {},
   "outputs": [],
   "source": [
    "def sigmoid(x):\n",
    "    return 1/(1+np.exp(-x))\n",
    "\n",
    "def relu(x):\n",
    "    return np.maximum(0, x)\n",
    "\n",
    "def softmax(a):\n",
    "    a=a.T\n",
    "    y = np.exp(a-np.max(a,axis=0))/np.sum(np.exp(a-np.max(a,axis=0)),axis=0)\n",
    "    return y.T\n",
    "\n",
    "def mean_squared_error(y, t):\n",
    "    return 0.5 * np.sum((y-t)**2)\n"
   ]
  },
  {
   "cell_type": "code",
   "execution_count": 7,
   "metadata": {},
   "outputs": [],
   "source": [
    "class Classification:\n",
    "    def __init__(self, input_size = 28*28, hidden1_size = 100, output_size = 10, \n",
    "                 weight_init_std = 0.01):\n",
    "        self.load()\n",
    "        \n",
    "        self.leaning_rate = 0.0001# 0.01以上は学習しねえ\n",
    "        \n",
    "        self.params = {}\n",
    "        self.params['w1'] = weight_init_std*np.random.randn(input_size, hidden1_size)\n",
    "        self.params['b1'] = np.zeros(hidden1_size)\n",
    "        self.params['w2'] = weight_init_std*np.random.randn(hidden1_size, output_size)\n",
    "        self.params['b2'] = np.zeros(output_size)\n",
    "        self.dw1 = None\n",
    "        self.db = None\n",
    "    \n",
    "    def train(self, batch_size=200, n_epoch=10):\n",
    "        datlen = self.dataset['label'].shape[0]\n",
    "        for n in range(n_epoch):\n",
    "            batch_mask = np.random.permutation(datlen)\n",
    "            for b in range(datlen//batch_size):\n",
    "                batch_img = self.dataset['image'][batch_mask[b:b+batch_size],:]\n",
    "                batch_label = self.dataset['label'][batch_mask[b:b+batch_size],:]\n",
    "                grads = self.gradient(batch_img, batch_label)\n",
    "                for key in ('w1','b1','w2','b2'):\n",
    "                    self.params[key] -= self.leaning_rate * grads[key]\n",
    "            print('trial:{}, Correct Rate:{}%'.format(n+1,self.correct_rate))\n",
    "        #print('w1:{}, b1:{}, w2:{}, b2:{}'.format(self.params['w1'],self.params['b1'],self.params['w2'],self.params['b2']))\n",
    "        return\n",
    "        \n",
    "    def predict(self,batchdat):\n",
    "        w1,w2 = self.params['w1'], self.params['w2']\n",
    "        b1,b2 = self.params['b1'], self.params['b2']\n",
    "        \n",
    "        self.batchdat = batchdat\n",
    "        self.a1 = np.dot(batchdat,w1) + b1\n",
    "        self.z1 = sigmoid(self.a1)\n",
    "        self.a2 = np.dot(self.z1,w2) + b2\n",
    "        self.y = softmax(self.a2)\n",
    "        return \n",
    "    \n",
    "    def gradient(self, x, t):\n",
    "        L = self.loss(x, t)\n",
    "        grads = {}# batch未対応\n",
    "        db2 = (self.y-t)*self.y*(1-self.y)\n",
    "        grads['b2'] = np.sum(db2,axis=0)\n",
    "        grads['w2'] = np.dot(self.z1.T, db2)\n",
    "        db1 = np.dot(db2, self.params['w2'].T)*self.z1*(1-self.z1)\n",
    "        grads['b1'] = np.sum(db1,axis=0)\n",
    "        grads['w1'] = np.dot(self.batchdat.T, db1)\n",
    "        return grads\n",
    "    \n",
    "    def loss(self, x, t):\n",
    "        self.predict(x)\n",
    "        self.correct(self.y,t)\n",
    "        return mean_squared_error(self.y,t)\n",
    "        \n",
    "    def load(self):\n",
    "        print('loading...')\n",
    "        with open(r'./train_img/mnist.pkl', 'rb') as f:\n",
    "            self.dataset= pickle.load(f)\n",
    "        return\n",
    "    \n",
    "    def correct(self, y, t):\n",
    "        ypre = np.argmax(y,axis=1)\n",
    "        ans = np.argmax(t,axis=1)\n",
    "        self.correct_rate = 100*sum(ypre==ans)/t.shape[0]\n",
    "        return\n",
    "        \n",
    "        \n",
    "        "
   ]
  },
  {
   "cell_type": "code",
   "execution_count": 6,
   "metadata": {},
   "outputs": [
    {
     "name": "stdout",
     "output_type": "stream",
     "text": [
      "loading...\n",
      "trial:1, Correct Rate:45.0%\n",
      "trial:2, Correct Rate:64.0%\n",
      "trial:3, Correct Rate:70.5%\n",
      "trial:4, Correct Rate:74.0%\n",
      "trial:5, Correct Rate:86.5%\n",
      "trial:6, Correct Rate:92.0%\n",
      "trial:7, Correct Rate:88.0%\n",
      "trial:8, Correct Rate:91.5%\n",
      "trial:9, Correct Rate:95.0%\n",
      "trial:10, Correct Rate:96.0%\n",
      "finish!\n",
      " 学習時間は12.603846788406372sだよ(^^)\n"
     ]
    }
   ],
   "source": [
    "cls = Classification()\n",
    "start = time.time()\n",
    "cls.train()\n",
    "print('finish!\\n 学習時間は{}sだよ(^^)'.format(time.time()-start))"
   ]
  },
  {
   "cell_type": "code",
   "execution_count": 75,
   "metadata": {},
   "outputs": [
    {
     "name": "stdout",
     "output_type": "stream",
     "text": [
      "[0. 0. 0.]\n"
     ]
    }
   ],
   "source": [
    "i = np.zeros(3)\n",
    "\n",
    "\n",
    "w = np.array([[1],[3]])\n",
    "print(i)\n"
   ]
  }
 ],
 "metadata": {
  "kernelspec": {
   "display_name": "Python 3",
   "language": "python",
   "name": "python3"
  },
  "language_info": {
   "codemirror_mode": {
    "name": "ipython",
    "version": 3
   },
   "file_extension": ".py",
   "mimetype": "text/x-python",
   "name": "python",
   "nbconvert_exporter": "python",
   "pygments_lexer": "ipython3",
   "version": "3.7.0"
  }
 },
 "nbformat": 4,
 "nbformat_minor": 2
}
