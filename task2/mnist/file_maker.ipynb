{
 "cells": [
  {
   "cell_type": "markdown",
   "metadata": {},
   "source": [
    "# 画像データ整形\n",
    "\n",
    "めっちゃ時間かかるから注意(40-50分)\n",
    "\n",
    "./train_img/mnist.pklファイルの作成"
   ]
  },
  {
   "cell_type": "code",
   "execution_count": 4,
   "metadata": {},
   "outputs": [],
   "source": [
    "import numpy as np\n",
    "import os\n",
    "import cv2\n",
    "import pickle\n",
    "import time\n",
    "\n",
    "class fileall():\n",
    "    def __init__(self):\n",
    "        self.dataset = {}\n",
    "        self.savefile = r\"./train_img/mnist.pkl\"\n",
    "        print('start')\n",
    "        start = time.time()\n",
    "        self.load()\n",
    "        self.save()\n",
    "        print('finish')\n",
    "        print(time.time()-start)\n",
    "        \n",
    "        \n",
    "    def load(self):\n",
    "        imagearray = np.empty((0, 28*28), int)\n",
    "        labelarray = np.empty((0, 10), int)\n",
    "        \n",
    "        for num in range(10):\n",
    "            data_dir_path = r\"./train_img/{}/\".format(num)\n",
    "            file_list = os.listdir(data_dir_path)\n",
    "            labels = np.zeros((len(file_list), 10))\n",
    "            labels[:,num] = 1\n",
    "            labelarray = np.r_[labelarray, labels]\n",
    "            \n",
    "            for file_name in file_list:\n",
    "                image = cv2.imread(data_dir_path + file_name, cv2.IMREAD_GRAYSCALE)\n",
    "                imagearray = np.r_[imagearray, np.reshape(image, (1,-1))]\n",
    "                \n",
    "        self.dataset['image'] = imagearray\n",
    "        self.dataset['label'] = labelarray\n",
    "        \n",
    "    def save(self):\n",
    "        if not os.path.isfile(self.savefile):\n",
    "            with open(self.savefile, 'wb') as f:\n",
    "                pickle.dump(self.dataset, f, -1)\n",
    "                \n",
    "                \n"
   ]
  },
  {
   "cell_type": "code",
   "execution_count": 5,
   "metadata": {},
   "outputs": [
    {
     "name": "stdout",
     "output_type": "stream",
     "text": [
      "start\n",
      "finish\n",
      "2468.7898645401\n"
     ]
    },
    {
     "data": {
      "text/plain": [
       "<__main__.fileall at 0x15071cdf5c0>"
      ]
     },
     "execution_count": 5,
     "metadata": {},
     "output_type": "execute_result"
    }
   ],
   "source": [
    "fileall()"
   ]
  }
 ],
 "metadata": {
  "kernelspec": {
   "display_name": "Python 3",
   "language": "python",
   "name": "python3"
  },
  "language_info": {
   "codemirror_mode": {
    "name": "ipython",
    "version": 3
   },
   "file_extension": ".py",
   "mimetype": "text/x-python",
   "name": "python",
   "nbconvert_exporter": "python",
   "pygments_lexer": "ipython3",
   "version": "3.7.0"
  }
 },
 "nbformat": 4,
 "nbformat_minor": 2
}
